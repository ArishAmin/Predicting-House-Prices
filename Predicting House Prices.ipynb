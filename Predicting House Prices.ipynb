{
 "cells": [
  {
   "cell_type": "code",
   "execution_count": 111,
   "id": "a8113254",
   "metadata": {
    "_kg_hide-input": true,
    "execution": {
     "iopub.execute_input": "2022-04-05T15:39:34.851901Z",
     "iopub.status.busy": "2022-04-05T15:39:34.850831Z",
     "iopub.status.idle": "2022-04-05T15:39:35.871289Z",
     "shell.execute_reply": "2022-04-05T15:39:35.871975Z",
     "shell.execute_reply.started": "2022-04-05T15:23:24.037251Z"
    },
    "papermill": {
     "duration": 1.056181,
     "end_time": "2022-04-05T15:39:35.872190",
     "exception": false,
     "start_time": "2022-04-05T15:39:34.816009",
     "status": "completed"
    },
    "tags": []
   },
   "outputs": [
    {
     "data": {
      "text/html": [
       "<div>\n",
       "<style scoped>\n",
       "    .dataframe tbody tr th:only-of-type {\n",
       "        vertical-align: middle;\n",
       "    }\n",
       "\n",
       "    .dataframe tbody tr th {\n",
       "        vertical-align: top;\n",
       "    }\n",
       "\n",
       "    .dataframe thead th {\n",
       "        text-align: right;\n",
       "    }\n",
       "</style>\n",
       "<table border=\"1\" class=\"dataframe\">\n",
       "  <thead>\n",
       "    <tr style=\"text-align: right;\">\n",
       "      <th></th>\n",
       "      <th>Id</th>\n",
       "      <th>MSSubClass</th>\n",
       "      <th>MSZoning</th>\n",
       "      <th>LotFrontage</th>\n",
       "      <th>LotArea</th>\n",
       "      <th>Street</th>\n",
       "      <th>Alley</th>\n",
       "      <th>LotShape</th>\n",
       "      <th>LandContour</th>\n",
       "      <th>Utilities</th>\n",
       "      <th>...</th>\n",
       "      <th>PoolArea</th>\n",
       "      <th>PoolQC</th>\n",
       "      <th>Fence</th>\n",
       "      <th>MiscFeature</th>\n",
       "      <th>MiscVal</th>\n",
       "      <th>MoSold</th>\n",
       "      <th>YrSold</th>\n",
       "      <th>SaleType</th>\n",
       "      <th>SaleCondition</th>\n",
       "      <th>SalePrice</th>\n",
       "    </tr>\n",
       "  </thead>\n",
       "  <tbody>\n",
       "    <tr>\n",
       "      <th>0</th>\n",
       "      <td>1</td>\n",
       "      <td>60</td>\n",
       "      <td>RL</td>\n",
       "      <td>65.0</td>\n",
       "      <td>8450</td>\n",
       "      <td>Pave</td>\n",
       "      <td>NaN</td>\n",
       "      <td>Reg</td>\n",
       "      <td>Lvl</td>\n",
       "      <td>AllPub</td>\n",
       "      <td>...</td>\n",
       "      <td>0</td>\n",
       "      <td>NaN</td>\n",
       "      <td>NaN</td>\n",
       "      <td>NaN</td>\n",
       "      <td>0</td>\n",
       "      <td>2</td>\n",
       "      <td>2008</td>\n",
       "      <td>WD</td>\n",
       "      <td>Normal</td>\n",
       "      <td>208500</td>\n",
       "    </tr>\n",
       "    <tr>\n",
       "      <th>1</th>\n",
       "      <td>2</td>\n",
       "      <td>20</td>\n",
       "      <td>RL</td>\n",
       "      <td>80.0</td>\n",
       "      <td>9600</td>\n",
       "      <td>Pave</td>\n",
       "      <td>NaN</td>\n",
       "      <td>Reg</td>\n",
       "      <td>Lvl</td>\n",
       "      <td>AllPub</td>\n",
       "      <td>...</td>\n",
       "      <td>0</td>\n",
       "      <td>NaN</td>\n",
       "      <td>NaN</td>\n",
       "      <td>NaN</td>\n",
       "      <td>0</td>\n",
       "      <td>5</td>\n",
       "      <td>2007</td>\n",
       "      <td>WD</td>\n",
       "      <td>Normal</td>\n",
       "      <td>181500</td>\n",
       "    </tr>\n",
       "    <tr>\n",
       "      <th>2</th>\n",
       "      <td>3</td>\n",
       "      <td>60</td>\n",
       "      <td>RL</td>\n",
       "      <td>68.0</td>\n",
       "      <td>11250</td>\n",
       "      <td>Pave</td>\n",
       "      <td>NaN</td>\n",
       "      <td>IR1</td>\n",
       "      <td>Lvl</td>\n",
       "      <td>AllPub</td>\n",
       "      <td>...</td>\n",
       "      <td>0</td>\n",
       "      <td>NaN</td>\n",
       "      <td>NaN</td>\n",
       "      <td>NaN</td>\n",
       "      <td>0</td>\n",
       "      <td>9</td>\n",
       "      <td>2008</td>\n",
       "      <td>WD</td>\n",
       "      <td>Normal</td>\n",
       "      <td>223500</td>\n",
       "    </tr>\n",
       "    <tr>\n",
       "      <th>3</th>\n",
       "      <td>4</td>\n",
       "      <td>70</td>\n",
       "      <td>RL</td>\n",
       "      <td>60.0</td>\n",
       "      <td>9550</td>\n",
       "      <td>Pave</td>\n",
       "      <td>NaN</td>\n",
       "      <td>IR1</td>\n",
       "      <td>Lvl</td>\n",
       "      <td>AllPub</td>\n",
       "      <td>...</td>\n",
       "      <td>0</td>\n",
       "      <td>NaN</td>\n",
       "      <td>NaN</td>\n",
       "      <td>NaN</td>\n",
       "      <td>0</td>\n",
       "      <td>2</td>\n",
       "      <td>2006</td>\n",
       "      <td>WD</td>\n",
       "      <td>Abnorml</td>\n",
       "      <td>140000</td>\n",
       "    </tr>\n",
       "    <tr>\n",
       "      <th>4</th>\n",
       "      <td>5</td>\n",
       "      <td>60</td>\n",
       "      <td>RL</td>\n",
       "      <td>84.0</td>\n",
       "      <td>14260</td>\n",
       "      <td>Pave</td>\n",
       "      <td>NaN</td>\n",
       "      <td>IR1</td>\n",
       "      <td>Lvl</td>\n",
       "      <td>AllPub</td>\n",
       "      <td>...</td>\n",
       "      <td>0</td>\n",
       "      <td>NaN</td>\n",
       "      <td>NaN</td>\n",
       "      <td>NaN</td>\n",
       "      <td>0</td>\n",
       "      <td>12</td>\n",
       "      <td>2008</td>\n",
       "      <td>WD</td>\n",
       "      <td>Normal</td>\n",
       "      <td>250000</td>\n",
       "    </tr>\n",
       "  </tbody>\n",
       "</table>\n",
       "<p>5 rows × 81 columns</p>\n",
       "</div>"
      ],
      "text/plain": [
       "   Id  MSSubClass MSZoning  LotFrontage  LotArea Street Alley LotShape  \\\n",
       "0   1          60       RL         65.0     8450   Pave   NaN      Reg   \n",
       "1   2          20       RL         80.0     9600   Pave   NaN      Reg   \n",
       "2   3          60       RL         68.0    11250   Pave   NaN      IR1   \n",
       "3   4          70       RL         60.0     9550   Pave   NaN      IR1   \n",
       "4   5          60       RL         84.0    14260   Pave   NaN      IR1   \n",
       "\n",
       "  LandContour Utilities  ... PoolArea PoolQC Fence MiscFeature MiscVal MoSold  \\\n",
       "0         Lvl    AllPub  ...        0    NaN   NaN         NaN       0      2   \n",
       "1         Lvl    AllPub  ...        0    NaN   NaN         NaN       0      5   \n",
       "2         Lvl    AllPub  ...        0    NaN   NaN         NaN       0      9   \n",
       "3         Lvl    AllPub  ...        0    NaN   NaN         NaN       0      2   \n",
       "4         Lvl    AllPub  ...        0    NaN   NaN         NaN       0     12   \n",
       "\n",
       "  YrSold  SaleType  SaleCondition  SalePrice  \n",
       "0   2008        WD         Normal     208500  \n",
       "1   2007        WD         Normal     181500  \n",
       "2   2008        WD         Normal     223500  \n",
       "3   2006        WD        Abnorml     140000  \n",
       "4   2008        WD         Normal     250000  \n",
       "\n",
       "[5 rows x 81 columns]"
      ]
     },
     "execution_count": 111,
     "metadata": {},
     "output_type": "execute_result"
    }
   ],
   "source": [
    "import numpy as np \n",
    "import pandas as pd \n",
    "import seaborn as sns \n",
    "import matplotlib.pyplot as plt\n",
    "from matplotlib.colors import to_hex\n",
    "\n",
    "house = pd.read_csv(\"train.csv\")\n",
    "house_test = pd.read_csv(\"test.csv\")\n",
    "\n",
    "house.head()"
   ]
  },
  {
   "cell_type": "code",
   "execution_count": null,
   "id": "326999ae",
   "metadata": {
    "execution": {
     "iopub.execute_input": "2022-04-05T15:39:35.973773Z",
     "iopub.status.busy": "2022-04-05T15:39:35.972478Z",
     "iopub.status.idle": "2022-04-05T15:39:36.311237Z",
     "shell.execute_reply": "2022-04-05T15:39:36.310519Z",
     "shell.execute_reply.started": "2022-04-05T15:23:30.770039Z"
    },
    "papermill": {
     "duration": 0.395254,
     "end_time": "2022-04-05T15:39:36.311433",
     "exception": false,
     "start_time": "2022-04-05T15:39:35.916179",
     "status": "completed"
    },
    "tags": []
   },
   "outputs": [],
   "source": [
    "colors = plt.cm.Set1.colors \n",
    "color_hex = to_hex(colors[3])\n",
    "house.describe().T.style.bar(subset=['mean'], color=color_hex).background_gradient(subset=['std', '50%', 'max'])"
   ]
  },
  {
   "cell_type": "code",
   "execution_count": null,
   "id": "83505e9b",
   "metadata": {
    "execution": {
     "iopub.execute_input": "2022-04-05T15:39:36.952194Z",
     "iopub.status.busy": "2022-04-05T15:39:36.951487Z",
     "iopub.status.idle": "2022-04-05T15:39:37.286679Z",
     "shell.execute_reply": "2022-04-05T15:39:37.285988Z",
     "shell.execute_reply.started": "2022-04-05T15:33:15.810688Z"
    },
    "papermill": {
     "duration": 0.369904,
     "end_time": "2022-04-05T15:39:37.286811",
     "exception": false,
     "start_time": "2022-04-05T15:39:36.916907",
     "status": "completed"
    },
    "tags": []
   },
   "outputs": [],
   "source": [
    "color_hex1 = to_hex(colors[7])\n",
    "sns.distplot(house['SalePrice'],color=color_hex1)\n",
    "plt.axvline(x=house['SalePrice'].mean(), color=color_hex1, linestyle='--', linewidth=2)\n",
    "plt.title('Sales');"
   ]
  },
  {
   "cell_type": "markdown",
   "id": "2c42200f",
   "metadata": {
    "papermill": {
     "duration": 0.028032,
     "end_time": "2022-04-05T15:39:37.343981",
     "exception": false,
     "start_time": "2022-04-05T15:39:37.315949",
     "status": "completed"
    },
    "tags": []
   },
   "source": [
    "<div style=\"font-family: 'Comic Sans MS'; font-size: 18px; color:Blue;\">\n",
    "Missing values\n",
    "</div>"
   ]
  },
  {
   "cell_type": "code",
   "execution_count": null,
   "id": "50fa5e10",
   "metadata": {
    "execution": {
     "iopub.execute_input": "2022-04-05T15:39:37.413732Z",
     "iopub.status.busy": "2022-04-05T15:39:37.412842Z",
     "iopub.status.idle": "2022-04-05T15:39:37.715380Z",
     "shell.execute_reply": "2022-04-05T15:39:37.714949Z",
     "shell.execute_reply.started": "2022-04-05T15:33:18.111202Z"
    },
    "papermill": {
     "duration": 0.342439,
     "end_time": "2022-04-05T15:39:37.715504",
     "exception": false,
     "start_time": "2022-04-05T15:39:37.373065",
     "status": "completed"
    },
    "tags": []
   },
   "outputs": [],
   "source": [
    "color_hex2= to_hex(colors[4])\n",
    "missing = house.isnull().sum()\n",
    "missing = missing[missing > 0]\n",
    "missing = missing.sort_values(ascending = False)\n",
    "missing.plot.bar(color=color_hex2)\n",
    "plt.title('Missing Data');"
   ]
  },
  {
   "cell_type": "markdown",
   "id": "dcc366c9",
   "metadata": {
    "papermill": {
     "duration": 0.029183,
     "end_time": "2022-04-05T15:39:37.773723",
     "exception": false,
     "start_time": "2022-04-05T15:39:37.744540",
     "status": "completed"
    },
    "tags": []
   },
   "source": [
    "<div style=\"font-family: 'Comic Sans MS'; font-size: 18px; color:Blue;\">\n",
    "‣ We can see that some of the data got more than 50% missing values which is not good for training model.<br> ‣ I will drop those values and for those who are less than 50% we will try to fill them.\n",
    "</div>"
   ]
  },
  {
   "cell_type": "code",
   "execution_count": null,
   "id": "62bfd41e",
   "metadata": {
    "execution": {
     "iopub.execute_input": "2022-04-05T15:39:44.578637Z",
     "iopub.status.busy": "2022-04-05T15:39:44.577983Z",
     "iopub.status.idle": "2022-04-05T15:39:44.580983Z",
     "shell.execute_reply": "2022-04-05T15:39:44.581371Z",
     "shell.execute_reply.started": "2022-04-05T15:34:17.352997Z"
    },
    "papermill": {
     "duration": 0.055826,
     "end_time": "2022-04-05T15:39:44.581510",
     "exception": false,
     "start_time": "2022-04-05T15:39:44.525684",
     "status": "completed"
    },
    "tags": []
   },
   "outputs": [],
   "source": [
    "y = house['SalePrice']\n",
    "house = house.drop(['Id','Alley','PoolQC','Fence','MiscFeature','SalePrice'],axis=1)\n",
    "house_test = house_test.drop(['Id','Alley','PoolQC','Fence','MiscFeature'],axis=1)"
   ]
  },
  {
   "cell_type": "code",
   "execution_count": null,
   "id": "894f5fc5",
   "metadata": {
    "execution": {
     "iopub.execute_input": "2022-04-05T15:39:44.812594Z",
     "iopub.status.busy": "2022-04-05T15:39:44.811705Z",
     "iopub.status.idle": "2022-04-05T15:39:44.817257Z",
     "shell.execute_reply": "2022-04-05T15:39:44.816848Z",
     "shell.execute_reply.started": "2022-04-05T15:34:20.639279Z"
    },
    "papermill": {
     "duration": 0.191359,
     "end_time": "2022-04-05T15:39:44.817405",
     "exception": false,
     "start_time": "2022-04-05T15:39:44.626046",
     "status": "completed"
    },
    "tags": []
   },
   "outputs": [],
   "source": [
    "num_cols = [col for col in house.columns if house[col].dtype in ['float64','int64']]\n",
    "cat_cols = [col for col in house.columns if house[col].dtype not in ['float64','int64']]"
   ]
  },
  {
   "cell_type": "code",
   "execution_count": null,
   "id": "cc63276d",
   "metadata": {
    "execution": {
     "iopub.execute_input": "2022-04-05T15:39:44.915020Z",
     "iopub.status.busy": "2022-04-05T15:39:44.914236Z",
     "iopub.status.idle": "2022-04-05T15:39:45.210280Z",
     "shell.execute_reply": "2022-04-05T15:39:45.209692Z",
     "shell.execute_reply.started": "2022-04-05T15:34:22.553518Z"
    },
    "papermill": {
     "duration": 0.346648,
     "end_time": "2022-04-05T15:39:45.210420",
     "exception": false,
     "start_time": "2022-04-05T15:39:44.863772",
     "status": "completed"
    },
    "tags": []
   },
   "outputs": [],
   "source": [
    "from sklearn.impute import SimpleImputer\n",
    "from sklearn.preprocessing import MinMaxScaler, OneHotEncoder\n",
    "\n",
    "house[num_cols] = SimpleImputer().fit_transform(house[num_cols])\n",
    "house_test[num_cols] = SimpleImputer().fit_transform(house_test[num_cols])\n",
    "\n",
    "house[num_cols] = MinMaxScaler().fit_transform(house[num_cols])\n",
    "house_test[num_cols] = MinMaxScaler().fit_transform(house_test[num_cols])"
   ]
  },
  {
   "cell_type": "code",
   "execution_count": null,
   "id": "0974bcfc",
   "metadata": {
    "execution": {
     "iopub.execute_input": "2022-04-05T15:39:45.324632Z",
     "iopub.status.busy": "2022-04-05T15:39:45.323966Z",
     "iopub.status.idle": "2022-04-05T15:39:45.327505Z",
     "shell.execute_reply": "2022-04-05T15:39:45.327036Z",
     "shell.execute_reply.started": "2022-04-05T15:34:41.247511Z"
    },
    "papermill": {
     "duration": 0.071057,
     "end_time": "2022-04-05T15:39:45.327628",
     "exception": false,
     "start_time": "2022-04-05T15:39:45.256571",
     "status": "completed"
    },
    "tags": []
   },
   "outputs": [],
   "source": [
    "columns_None = ['BsmtQual','BsmtCond','BsmtExposure','BsmtFinType1','BsmtFinType2','GarageType','GarageFinish','GarageQual','FireplaceQu','GarageCond',\n",
    "                'MasVnrType','Electrical','MSZoning','Utilities','Functional','Exterior2nd','KitchenQual','Exterior1st','SaleType']\n",
    "house[columns_None] = house[columns_None].fillna('none')\n",
    "house_test[columns_None] = house_test[columns_None].fillna('none')"
   ]
  },
  {
   "cell_type": "code",
   "execution_count": null,
   "id": "e121053f",
   "metadata": {
    "execution": {
     "iopub.execute_input": "2022-04-05T15:39:45.429050Z",
     "iopub.status.busy": "2022-04-05T15:39:45.428227Z",
     "iopub.status.idle": "2022-04-05T15:39:45.536667Z",
     "shell.execute_reply": "2022-04-05T15:39:45.535611Z",
     "shell.execute_reply.started": "2022-04-05T15:34:42.799817Z"
    },
    "papermill": {
     "duration": 0.162246,
     "end_time": "2022-04-05T15:39:45.536792",
     "exception": false,
     "start_time": "2022-04-05T15:39:45.374546",
     "status": "completed"
    },
    "tags": []
   },
   "outputs": [],
   "source": [
    "from sklearn.preprocessing import OneHotEncoder\n",
    "\n",
    "encoder = OneHotEncoder(sparse=False, handle_unknown='ignore').fit(house[cat_cols])\n",
    "encoded_cols = list(encoder.get_feature_names(cat_cols))\n",
    "house[encoded_cols] = encoder.transform(house[cat_cols])\n"
   ]
  },
  {
   "cell_type": "code",
   "execution_count": null,
   "id": "dbe732a3",
   "metadata": {
    "execution": {
     "iopub.execute_input": "2022-04-05T15:39:45.662201Z",
     "iopub.status.busy": "2022-04-05T15:39:45.640418Z",
     "iopub.status.idle": "2022-04-05T15:39:45.741510Z",
     "shell.execute_reply": "2022-04-05T15:39:45.741029Z",
     "shell.execute_reply.started": "2022-04-05T15:34:44.581932Z"
    },
    "papermill": {
     "duration": 0.159262,
     "end_time": "2022-04-05T15:39:45.741668",
     "exception": false,
     "start_time": "2022-04-05T15:39:45.582406",
     "status": "completed"
    },
    "tags": []
   },
   "outputs": [],
   "source": [
    "house_test[encoded_cols] = encoder.transform(house_test[cat_cols])"
   ]
  },
  {
   "cell_type": "code",
   "execution_count": null,
   "id": "dde6a4f5",
   "metadata": {
    "execution": {
     "iopub.execute_input": "2022-04-05T15:39:45.940391Z",
     "iopub.status.busy": "2022-04-05T15:39:45.938823Z",
     "iopub.status.idle": "2022-04-05T15:39:45.940964Z",
     "shell.execute_reply": "2022-04-05T15:39:45.941376Z",
     "shell.execute_reply.started": "2022-04-05T15:34:46.687642Z"
    },
    "papermill": {
     "duration": 0.052043,
     "end_time": "2022-04-05T15:39:45.941518",
     "exception": false,
     "start_time": "2022-04-05T15:39:45.889475",
     "status": "completed"
    },
    "tags": []
   },
   "outputs": [],
   "source": [
    "from sklearn.model_selection import train_test_split\n",
    "from sklearn.metrics import mean_squared_error"
   ]
  },
  {
   "cell_type": "code",
   "execution_count": null,
   "id": "6272cf80",
   "metadata": {
    "execution": {
     "iopub.execute_input": "2022-04-05T15:39:46.040573Z",
     "iopub.status.busy": "2022-04-05T15:39:46.039685Z",
     "iopub.status.idle": "2022-04-05T15:39:46.050761Z",
     "shell.execute_reply": "2022-04-05T15:39:46.051134Z",
     "shell.execute_reply.started": "2022-04-05T15:34:48.302581Z"
    },
    "papermill": {
     "duration": 0.064468,
     "end_time": "2022-04-05T15:39:46.051271",
     "exception": false,
     "start_time": "2022-04-05T15:39:45.986803",
     "status": "completed"
    },
    "tags": []
   },
   "outputs": [],
   "source": [
    "X_train,X_test,y_train,y_test = train_test_split(house[num_cols + encoded_cols],\n",
    "                                                 y,\n",
    "                                                 test_size=0.25,\n",
    "                                                 random_state=42)"
   ]
  },
  {
   "cell_type": "code",
   "execution_count": null,
   "id": "9939ed93",
   "metadata": {
    "execution": {
     "iopub.execute_input": "2022-04-05T15:39:46.236938Z",
     "iopub.status.busy": "2022-04-05T15:39:46.236225Z",
     "iopub.status.idle": "2022-04-05T15:39:46.349504Z",
     "shell.execute_reply": "2022-04-05T15:39:46.349027Z",
     "shell.execute_reply.started": "2022-04-05T15:34:50.095873Z"
    },
    "papermill": {
     "duration": 0.162837,
     "end_time": "2022-04-05T15:39:46.349634",
     "exception": false,
     "start_time": "2022-04-05T15:39:46.186797",
     "status": "completed"
    },
    "tags": []
   },
   "outputs": [],
   "source": [
    "!pip install xgboost\n",
    "from sklearn.svm import SVR\n",
    "from xgboost import XGBRegressor\n",
    "from sklearn.linear_model import Ridge\n",
    "from sklearn.linear_model import ElasticNet\n",
    "from sklearn.linear_model import SGDRegressor\n",
    "from sklearn.linear_model import BayesianRidge\n",
    "from sklearn.linear_model import LinearRegression\n",
    "from sklearn.ensemble import RandomForestRegressor"
   ]
  },
  {
   "cell_type": "code",
   "execution_count": null,
   "id": "f5785cef",
   "metadata": {
    "execution": {
     "iopub.execute_input": "2022-04-05T15:39:46.447009Z",
     "iopub.status.busy": "2022-04-05T15:39:46.446188Z",
     "iopub.status.idle": "2022-04-05T15:39:46.448623Z",
     "shell.execute_reply": "2022-04-05T15:39:46.448187Z",
     "shell.execute_reply.started": "2022-04-05T15:34:51.710867Z"
    },
    "papermill": {
     "duration": 0.052371,
     "end_time": "2022-04-05T15:39:46.448737",
     "exception": false,
     "start_time": "2022-04-05T15:39:46.396366",
     "status": "completed"
    },
    "tags": []
   },
   "outputs": [],
   "source": [
    "models = {\n",
    "    'SVR':SVR(),\n",
    "    'XGBRegressor':XGBRegressor(),\n",
    "    'Ridge':Ridge(),\n",
    "    'ElasticNet':ElasticNet(),\n",
    "    'SGDRegressor':SGDRegressor(),\n",
    "    'BayesianRidge':BayesianRidge(),\n",
    "    'LinearRegression':LinearRegression(),\n",
    "    'RandomForestRegressor':RandomForestRegressor()\n",
    "}"
   ]
  },
  {
   "cell_type": "code",
   "execution_count": null,
   "id": "5fedb9f5",
   "metadata": {
    "execution": {
     "iopub.execute_input": "2022-04-05T15:39:46.551234Z",
     "iopub.status.busy": "2022-04-05T15:39:46.550696Z",
     "iopub.status.idle": "2022-04-05T15:39:53.618887Z",
     "shell.execute_reply": "2022-04-05T15:39:53.619380Z",
     "shell.execute_reply.started": "2022-04-05T15:34:53.218058Z"
    },
    "papermill": {
     "duration": 7.124665,
     "end_time": "2022-04-05T15:39:53.619543",
     "exception": false,
     "start_time": "2022-04-05T15:39:46.494878",
     "status": "completed"
    },
    "tags": []
   },
   "outputs": [],
   "source": [
    "model_results = []\n",
    "model_names = []\n",
    "\n",
    "for name,model in models.items():\n",
    "    a = model.fit(X_train,y_train)\n",
    "    predicted = a.predict(X_test)\n",
    "    score = np.sqrt(mean_squared_error(y_test, predicted))\n",
    "    model_results.append(score)\n",
    "    model_names.append(name)\n",
    "  \n",
    "    df_results = pd.DataFrame([model_names,model_results])\n",
    "    df_results = df_results.transpose()\n",
    "    df_results = df_results.rename(columns={0:'Model',1:'RMSE'}).sort_values(by='RMSE',ascending=False)\n",
    "    \n",
    "print(df_results)"
   ]
  },
  {
   "cell_type": "markdown",
   "id": "52746e22",
   "metadata": {
    "papermill": {
     "duration": 0.044665,
     "end_time": "2022-04-05T15:39:53.710850",
     "exception": false,
     "start_time": "2022-04-05T15:39:53.666185",
     "status": "completed"
    },
    "tags": []
   },
   "source": [
    "<div style=\"font-family: 'Comic Sans MS'; font-size: 18px; color:Blue;\">\n",
    "‣ We tried multiple models but the best model was with lowest RMSE \"XGB Regressor\".\n",
    "    <br>‣ Now the question arise how we can further reduce the error? we can reduce it by using hyper parameter tuning, but how to decide ? how to guess the best parameters?\n",
    "    ‣ Lets do it in our next step.\n",
    "</div>"
   ]
  },
  {
   "cell_type": "code",
   "execution_count": null,
   "id": "980367dc",
   "metadata": {
    "_kg_hide-output": true,
    "execution": {
     "iopub.execute_input": "2022-04-05T15:39:54.083120Z",
     "iopub.status.busy": "2022-04-05T15:39:54.082195Z",
     "iopub.status.idle": "2022-04-05T15:39:54.086133Z",
     "shell.execute_reply": "2022-04-05T15:39:54.085749Z",
     "shell.execute_reply.started": "2022-04-05T15:35:31.600144Z"
    },
    "papermill": {
     "duration": 0.054486,
     "end_time": "2022-04-05T15:39:54.086239",
     "exception": false,
     "start_time": "2022-04-05T15:39:54.031753",
     "status": "completed"
    },
    "tags": []
   },
   "outputs": [],
   "source": [
    "!pip install optuna\n",
    "import optuna\n",
    "\n",
    "inputs_df = house.drop('SalePrice', axis=1)  \n",
    "targets = house['SalePrice']\n",
    "\n",
    "def objective(trial):\n",
    "    X_train, X_test, y_train, y_test = train_test_split(\n",
    "        inputs_df[num_cols + encoded_cols], targets, test_size=0.25, random_state=42)\n",
    "\n",
    "    param = {\n",
    "        'tree_method': 'gpu_hist',  # Use the GPU to speed up training (if available)\n",
    "        'lambda': trial.suggest_loguniform('lambda', 1e-3, 10.0),\n",
    "        'alpha': trial.suggest_loguniform('alpha', 1e-3, 10.0),\n",
    "        'colsample_bytree': trial.suggest_categorical('colsample_bytree', [0.3, 0.4, 0.5, 0.6, 0.7, 0.8, 0.9, 1.0]),\n",
    "        'subsample': trial.suggest_categorical('subsample', [0.4, 0.5, 0.6, 0.7, 0.8, 1.0]),\n",
    "        'learning_rate': trial.suggest_categorical('learning_rate', [0.008, 0.009, 0.01, 0.012, 0.014, 0.016, 0.018, 0.02]),\n",
    "        'n_estimators': trial.suggest_categorical('n_estimators', [1000, 2000, 3000, 4000]),\n",
    "        'max_depth': trial.suggest_categorical('max_depth', [5, 7, 9, 11, 13, 15, 17, 20]),\n",
    "        'random_state': trial.suggest_categorical('random_state', [24, 48, 2020]),\n",
    "        'min_child_weight': trial.suggest_int('min_child_weight', 1, 300),\n",
    "    }\n",
    "    \n",
    "    model = XGBRegressor(**param)\n",
    "    \n",
    "    model.fit(X_train, y_train, eval_set=[(X_test, y_test)], early_stopping_rounds=100, verbose=False)\n",
    "    preds_valid = model.predict(X_test)\n",
    "    rmse = mean_squared_error(y_test, preds_valid, squared=False)\n",
    "    return rmse\n",
    "\n",
    "study = optuna.create_study(direction=\"minimize\")\n",
    "study.optimize(objective, n_trials=50)\n",
    "\n",
    "study.best_params\n",
    "\n"
   ]
  },
  {
   "cell_type": "code",
   "execution_count": null,
   "id": "e0a81212",
   "metadata": {
    "execution": {
     "iopub.execute_input": "2022-04-05T15:39:54.180522Z",
     "iopub.status.busy": "2022-04-05T15:39:54.179772Z",
     "iopub.status.idle": "2022-04-05T15:39:54.181789Z",
     "shell.execute_reply": "2022-04-05T15:39:54.182140Z",
     "shell.execute_reply.started": "2022-04-05T15:35:50.164493Z"
    },
    "papermill": {
     "duration": 0.050992,
     "end_time": "2022-04-05T15:39:54.182264",
     "exception": false,
     "start_time": "2022-04-05T15:39:54.131272",
     "status": "completed"
    },
    "tags": []
   },
   "outputs": [],
   "source": [
    "best_params = {'lambda': 3.559040735218393,\n",
    " 'alpha': 0.25772549522868987,\n",
    " 'colsample_bytree': 0.6,\n",
    " 'subsample': 0.5,\n",
    " 'learning_rate': 0.014,\n",
    " 'n_estimators': 4000,\n",
    " 'max_depth': 11,\n",
    " 'random_state': 24,\n",
    " 'min_child_weight': 3}"
   ]
  },
  {
   "cell_type": "code",
   "execution_count": null,
   "id": "23770eda",
   "metadata": {
    "execution": {
     "iopub.execute_input": "2022-04-05T15:39:54.280994Z",
     "iopub.status.busy": "2022-04-05T15:39:54.280361Z",
     "iopub.status.idle": "2022-04-05T15:40:51.074019Z",
     "shell.execute_reply": "2022-04-05T15:40:51.074500Z",
     "shell.execute_reply.started": "2022-04-05T15:35:53.947427Z"
    },
    "papermill": {
     "duration": 56.847474,
     "end_time": "2022-04-05T15:40:51.074653",
     "exception": false,
     "start_time": "2022-04-05T15:39:54.227179",
     "status": "completed"
    },
    "tags": []
   },
   "outputs": [],
   "source": [
    "XGBR = XGBRegressor(**best_params)\n",
    "\n",
    "XGBR.fit(X_train, y_train)\n",
    "predicted = XGBR.predict(X_test)\n",
    "print(f'Root Mean Square Error test = {mean_squared_error(y_test, predicted,squared=False)}')"
   ]
  },
  {
   "cell_type": "code",
   "execution_count": null,
   "id": "c917526d",
   "metadata": {
    "_kg_hide-input": true,
    "_kg_hide-output": true,
    "execution": {
     "iopub.execute_input": "2022-04-05T15:40:51.172717Z",
     "iopub.status.busy": "2022-04-05T15:40:51.172098Z",
     "iopub.status.idle": "2022-04-05T15:40:51.174842Z",
     "shell.execute_reply": "2022-04-05T15:40:51.175246Z",
     "shell.execute_reply.started": "2022-04-05T15:36:50.279433Z"
    },
    "papermill": {
     "duration": 0.055555,
     "end_time": "2022-04-05T15:40:51.175402",
     "exception": false,
     "start_time": "2022-04-05T15:40:51.119847",
     "status": "completed"
    },
    "tags": []
   },
   "outputs": [],
   "source": [
    "#This is the parameter Iam using on my submission after multiple tries\n",
    "XGBR = XGBRegressor(booster='gbtree', \n",
    "                    colsample_bylevel=1,\n",
    "                    colsample_bynode=1, \n",
    "                    colsample_bytree=0.6,\n",
    "                    gamma=0,\n",
    "                    importance_type='gain', \n",
    "                    learning_rate=0.01, \n",
    "                    max_delta_step=0,\n",
    "                    max_depth=4, \n",
    "                    min_child_weight=1.5, \n",
    "                    n_estimators=2400,\n",
    "                    n_jobs=1, \n",
    "                    nthread=None, \n",
    "                    objective='reg:linear',\n",
    "                    reg_alpha=0.6, \n",
    "                    reg_lambda=0.6, \n",
    "                    scale_pos_weight=1, \n",
    "                    silent=None, \n",
    "                    subsample=0.8, \n",
    "                    verbosity=1)\n",
    "\n",
    "XGBR.fit(X_train,y_train)\n",
    "predicted = XGBR.predict(X_test)\n",
    "print(f'Root Mean Square Error test = {mean_squared_error(y_test, predicted,squared=False)})\n"
   ]
  },
  {
   "cell_type": "code",
   "execution_count": null,
   "id": "8dc25b85",
   "metadata": {
    "execution": {
     "iopub.execute_input": "2022-04-05T15:40:51.364176Z",
     "iopub.status.busy": "2022-04-05T15:40:51.363029Z",
     "iopub.status.idle": "2022-04-05T15:40:51.597704Z",
     "shell.execute_reply": "2022-04-05T15:40:51.598543Z",
     "shell.execute_reply.started": "2022-04-05T15:36:50.289465Z"
    },
    "papermill": {
     "duration": 0.287338,
     "end_time": "2022-04-05T15:40:51.598709",
     "exception": false,
     "start_time": "2022-04-05T15:40:51.311371",
     "status": "completed"
    },
    "tags": []
   },
   "outputs": [],
   "source": [
    "test_preds = XGBR.predict(house_test[num_cols + encoded_cols])"
   ]
  },
  {
   "cell_type": "code",
   "execution_count": null,
   "id": "577a161f",
   "metadata": {
    "execution": {
     "iopub.execute_input": "2022-04-05T15:40:51.697091Z",
     "iopub.status.busy": "2022-04-05T15:40:51.696493Z",
     "iopub.status.idle": "2022-04-05T15:40:51.712044Z",
     "shell.execute_reply": "2022-04-05T15:40:51.711356Z",
     "shell.execute_reply.started": "2022-04-05T15:36:50.544014Z"
    },
    "papermill": {
     "duration": 0.065415,
     "end_time": "2022-04-05T15:40:51.712155",
     "exception": false,
     "start_time": "2022-04-05T15:40:51.646740",
     "status": "completed"
    },
    "tags": []
   },
   "outputs": [],
   "source": [
    "submission_df = pd.read_csv(\"sample_submission.csv\")\n",
    "submission_df['SalePrice'] = test_preds\n",
    "submission_df.to_csv(\"my_submission.csv\", index=False)\n"
   ]
  }
 ],
 "metadata": {
  "kernelspec": {
   "display_name": "Python 3 (ipykernel)",
   "language": "python",
   "name": "python3"
  },
  "language_info": {
   "codemirror_mode": {
    "name": "ipython",
    "version": 3
   },
   "file_extension": ".py",
   "mimetype": "text/x-python",
   "name": "python",
   "nbconvert_exporter": "python",
   "pygments_lexer": "ipython3",
   "version": "3.9.13"
  },
  "papermill": {
   "default_parameters": {},
   "duration": 86.878347,
   "end_time": "2022-04-05T15:40:53.145568",
   "environment_variables": {},
   "exception": null,
   "input_path": "__notebook__.ipynb",
   "output_path": "__notebook__.ipynb",
   "parameters": {},
   "start_time": "2022-04-05T15:39:26.267221",
   "version": "2.3.3"
  }
 },
 "nbformat": 4,
 "nbformat_minor": 5
}
